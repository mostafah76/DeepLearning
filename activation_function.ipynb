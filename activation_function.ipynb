{
  "nbformat": 4,
  "nbformat_minor": 0,
  "metadata": {
    "kernelspec": {
      "display_name": "Python 3",
      "language": "python",
      "name": "python3"
    },
    "language_info": {
      "codemirror_mode": {
        "name": "ipython",
        "version": 3
      },
      "file_extension": ".py",
      "mimetype": "text/x-python",
      "name": "python",
      "nbconvert_exporter": "python",
      "pygments_lexer": "ipython3",
      "version": "3.7.7"
    },
    "colab": {
      "name": "activation function.ipynb",
      "provenance": [],
      "include_colab_link": true
    }
  },
  "cells": [
    {
      "cell_type": "markdown",
      "metadata": {
        "id": "view-in-github",
        "colab_type": "text"
      },
      "source": [
        "<a href=\"https://colab.research.google.com/github/mostafah76/DeepLearning/blob/master/activation_function.ipynb\" target=\"_parent\"><img src=\"https://colab.research.google.com/assets/colab-badge.svg\" alt=\"Open In Colab\"/></a>"
      ]
    },
    {
      "cell_type": "markdown",
      "metadata": {
        "id": "gnTnE8W_H65P",
        "colab_type": "text"
      },
      "source": [
        "activation function in Deep learning\n",
        "https://keras.io/api/layers/activations/"
      ]
    },
    {
      "cell_type": "code",
      "metadata": {
        "id": "X4wPn7bDH65S",
        "colab_type": "code",
        "colab": {}
      },
      "source": [
        "# TensorFlow and tf.keras\n",
        "from tensorflow import keras\n",
        "\n",
        "# Helper libraries\n",
        "import numpy as np\n",
        "import matplotlib.pyplot as plt"
      ],
      "execution_count": null,
      "outputs": []
    },
    {
      "cell_type": "markdown",
      "metadata": {
        "id": "an-R8wZmH65a",
        "colab_type": "text"
      },
      "source": [
        "To test your installation, print their version"
      ]
    },
    {
      "cell_type": "code",
      "metadata": {
        "id": "ikGSzAq1H65b",
        "colab_type": "code",
        "colab": {},
        "outputId": "9cf786eb-25fa-420e-cd85-ea423edff4cc"
      },
      "source": [
        "print(keras.__version__)"
      ],
      "execution_count": null,
      "outputs": [
        {
          "output_type": "stream",
          "text": [
            "2.2.4-tf\n"
          ],
          "name": "stdout"
        }
      ]
    },
    {
      "cell_type": "code",
      "metadata": {
        "id": "khl2ACOUH65i",
        "colab_type": "code",
        "colab": {}
      },
      "source": [
        "model = keras.models.Sequential()"
      ],
      "execution_count": null,
      "outputs": []
    },
    {
      "cell_type": "code",
      "metadata": {
        "id": "cJuyLsr3H65o",
        "colab_type": "code",
        "colab": {}
      },
      "source": [
        "model.add(keras.layers.Flatten(input_shape=(28, 28)))"
      ],
      "execution_count": null,
      "outputs": []
    },
    {
      "cell_type": "code",
      "metadata": {
        "id": "eQCr2vSqH65y",
        "colab_type": "code",
        "colab": {}
      },
      "source": [
        "model.add(keras.layers.Dense(128, activation='relu'))"
      ],
      "execution_count": null,
      "outputs": []
    },
    {
      "cell_type": "code",
      "metadata": {
        "id": "dZrXx8BDH653",
        "colab_type": "code",
        "colab": {},
        "outputId": "13554ffb-fcfc-44f1-bc5e-b4d1502ba120"
      },
      "source": [
        "from keras import activations"
      ],
      "execution_count": null,
      "outputs": [
        {
          "output_type": "stream",
          "text": [
            "Using TensorFlow backend.\n"
          ],
          "name": "stderr"
        }
      ]
    },
    {
      "cell_type": "code",
      "metadata": {
        "id": "SPljiD80H65-",
        "colab_type": "code",
        "colab": {}
      },
      "source": [
        "model.add(keras.layers.Dense(128, activation=activations.relu))"
      ],
      "execution_count": null,
      "outputs": []
    },
    {
      "cell_type": "markdown",
      "metadata": {
        "id": "wBlO2nCvH66E",
        "colab_type": "text"
      },
      "source": [
        "# relu"
      ]
    },
    {
      "cell_type": "markdown",
      "metadata": {
        "id": "I5hNjlvZH66G",
        "colab_type": "raw"
      },
      "source": [
        "tf.keras.activations.relu(x, alpha=0.0, max_value=None, threshold=0)\n",
        "x: Input\n",
        "alpha:governs the slope for values lower than the threshold\n",
        "max_value: sets the saturation threshold (the largest value the function will return)\n",
        "threshold: threshold value of the activation function below which values will be damped or set to zero"
      ]
    },
    {
      "cell_type": "code",
      "metadata": {
        "id": "hFt91iDUH66H",
        "colab_type": "code",
        "colab": {}
      },
      "source": [
        "xx=activations.relu(30.0, alpha=0.0, max_value=None, threshold=0)"
      ],
      "execution_count": null,
      "outputs": []
    },
    {
      "cell_type": "code",
      "metadata": {
        "id": "TIabeEE1H66T",
        "colab_type": "code",
        "colab": {},
        "outputId": "f2482940-d424-46bc-f294-0f6d0c623e65"
      },
      "source": [
        "xx"
      ],
      "execution_count": null,
      "outputs": [
        {
          "output_type": "execute_result",
          "data": {
            "text/plain": [
              "<tf.Tensor: shape=(), dtype=float32, numpy=30.0>"
            ]
          },
          "metadata": {
            "tags": []
          },
          "execution_count": 22
        }
      ]
    },
    {
      "cell_type": "markdown",
      "metadata": {
        "id": "swp2Wny6H66Z",
        "colab_type": "text"
      },
      "source": [
        "# sigmoid"
      ]
    },
    {
      "cell_type": "code",
      "metadata": {
        "id": "LzQ7HqeDH66a",
        "colab_type": "code",
        "colab": {}
      },
      "source": [
        "model.add(keras.layers.Dense(128, activation=activations.sigmoid))"
      ],
      "execution_count": null,
      "outputs": []
    },
    {
      "cell_type": "code",
      "metadata": {
        "id": "7YbpecE6H66j",
        "colab_type": "code",
        "colab": {}
      },
      "source": [
        "xx=activations.sigmoid(-4.0)"
      ],
      "execution_count": null,
      "outputs": []
    },
    {
      "cell_type": "code",
      "metadata": {
        "id": "_yghNwJoH66q",
        "colab_type": "code",
        "colab": {},
        "outputId": "0905a527-c36d-41b3-e821-b85712f64cc0"
      },
      "source": [
        "xx"
      ],
      "execution_count": null,
      "outputs": [
        {
          "output_type": "execute_result",
          "data": {
            "text/plain": [
              "<tf.Tensor: shape=(), dtype=float32, numpy=0.01798621>"
            ]
          },
          "metadata": {
            "tags": []
          },
          "execution_count": 31
        }
      ]
    },
    {
      "cell_type": "code",
      "metadata": {
        "id": "n5Rn4YF3H66y",
        "colab_type": "code",
        "colab": {}
      },
      "source": [
        "import tensorflow as tf"
      ],
      "execution_count": null,
      "outputs": []
    },
    {
      "cell_type": "code",
      "metadata": {
        "id": "-U0RusubH664",
        "colab_type": "code",
        "colab": {},
        "outputId": "aa075f98-66c5-4701-f51d-7f2dbfe79596"
      },
      "source": [
        "a = tf.constant([-20, -1.0, 0.0, 1.0, 20], dtype = tf.float32)\n",
        "b = tf.keras.activations.sigmoid(a)\n",
        "b.numpy()"
      ],
      "execution_count": null,
      "outputs": [
        {
          "output_type": "execute_result",
          "data": {
            "text/plain": [
              "array([2.0611537e-09, 2.6894143e-01, 5.0000000e-01, 7.3105860e-01,\n",
              "       1.0000000e+00], dtype=float32)"
            ]
          },
          "metadata": {
            "tags": []
          },
          "execution_count": 34
        }
      ]
    },
    {
      "cell_type": "markdown",
      "metadata": {
        "id": "DYi-YgczH668",
        "colab_type": "text"
      },
      "source": [
        "# tanh"
      ]
    },
    {
      "cell_type": "markdown",
      "metadata": {
        "id": "6IcZosaDH669",
        "colab_type": "raw"
      },
      "source": [
        "Hyperbolic tangent activation function"
      ]
    },
    {
      "cell_type": "code",
      "metadata": {
        "id": "ceYOQFz4H66-",
        "colab_type": "code",
        "colab": {},
        "outputId": "9ad33876-7534-471b-fb1b-f4e1613f15f7"
      },
      "source": [
        "a = tf.constant([-3.0,-1.0, 0.0,1.0,3.0], dtype = tf.float32)\n",
        "b = tf.keras.activations.tanh(a)\n",
        "b.numpy()"
      ],
      "execution_count": null,
      "outputs": [
        {
          "output_type": "execute_result",
          "data": {
            "text/plain": [
              "array([-0.9950547, -0.7615942,  0.       ,  0.7615942,  0.9950547],\n",
              "      dtype=float32)"
            ]
          },
          "metadata": {
            "tags": []
          },
          "execution_count": 35
        }
      ]
    },
    {
      "cell_type": "code",
      "metadata": {
        "id": "_HihEhVKH67C",
        "colab_type": "code",
        "colab": {}
      },
      "source": [
        "model.add(keras.layers.Dense(10, activation=activations.tanh))"
      ],
      "execution_count": null,
      "outputs": []
    },
    {
      "cell_type": "markdown",
      "metadata": {
        "id": "a-Z9mCVmH67G",
        "colab_type": "text"
      },
      "source": [
        "# softmax"
      ]
    },
    {
      "cell_type": "markdown",
      "metadata": {
        "id": "Grgmg-TcH67I",
        "colab_type": "raw"
      },
      "source": [
        "Softmax converts a real vector to a vector of categorical probabilities.\n",
        "\n",
        "The elements of the output vector are in range (0, 1) and sum to 1.\n",
        "\n",
        "Each vector is handled independently. The axis argument sets which axis of the input the function is applied along.\n",
        "\n",
        "Softmax is often used as the activation for the last layer of a classification network because the result could be interpreted as a probability distribution.\n",
        "\n",
        "The softmax of each vector x is computed as exp(x) / tf.reduce_sum(exp(x))"
      ]
    },
    {
      "cell_type": "code",
      "metadata": {
        "id": "6dqfDE78H67J",
        "colab_type": "code",
        "colab": {}
      },
      "source": [
        "x = tf.constant([[2,5,7]], dtype = tf.float32)"
      ],
      "execution_count": null,
      "outputs": []
    },
    {
      "cell_type": "code",
      "metadata": {
        "id": "XA2zoOgVH67V",
        "colab_type": "code",
        "colab": {}
      },
      "source": [
        "xx = tf.keras.activations.softmax(x, axis=-1)"
      ],
      "execution_count": null,
      "outputs": []
    },
    {
      "cell_type": "code",
      "metadata": {
        "id": "bttq2UWuH67Z",
        "colab_type": "code",
        "colab": {},
        "outputId": "c42a2401-286c-4b13-9e2e-1331a0ef4a75"
      },
      "source": [
        "xx"
      ],
      "execution_count": null,
      "outputs": [
        {
          "output_type": "execute_result",
          "data": {
            "text/plain": [
              "<tf.Tensor: shape=(1, 3), dtype=float32, numpy=array([[0.00589975, 0.11849965, 0.8756006 ]], dtype=float32)>"
            ]
          },
          "metadata": {
            "tags": []
          },
          "execution_count": 40
        }
      ]
    },
    {
      "cell_type": "markdown",
      "metadata": {
        "id": "lttiv0ZAH67e",
        "colab_type": "text"
      },
      "source": [
        "# softplus"
      ]
    },
    {
      "cell_type": "markdown",
      "metadata": {
        "id": "ORJtUwByH67f",
        "colab_type": "raw"
      },
      "source": [
        "Softplus activation function, softplus(x) = log(exp(x) + 1)"
      ]
    },
    {
      "cell_type": "code",
      "metadata": {
        "id": "4y22ZzbRH67g",
        "colab_type": "code",
        "colab": {}
      },
      "source": [
        "xx = tf.keras.activations.softplus(1.0)"
      ],
      "execution_count": null,
      "outputs": []
    },
    {
      "cell_type": "code",
      "metadata": {
        "id": "xojkeXpQH67k",
        "colab_type": "code",
        "colab": {}
      },
      "source": [
        "xx"
      ],
      "execution_count": null,
      "outputs": []
    },
    {
      "cell_type": "markdown",
      "metadata": {
        "id": "BgvoRN0HH67p",
        "colab_type": "text"
      },
      "source": [
        "# softsign"
      ]
    },
    {
      "cell_type": "markdown",
      "metadata": {
        "id": "fC0bzcj6H67p",
        "colab_type": "raw"
      },
      "source": [
        "Softsign activation function, softsign(x) = x / (abs(x) + 1)"
      ]
    },
    {
      "cell_type": "code",
      "metadata": {
        "id": "QGkrJXe6H67s",
        "colab_type": "code",
        "colab": {}
      },
      "source": [
        "a = tf.constant([-1.0, 0.0, 1.0], dtype = tf.float32)\n",
        "b = tf.keras.activations.softsign(a)\n",
        "b.numpy()"
      ],
      "execution_count": null,
      "outputs": []
    },
    {
      "cell_type": "markdown",
      "metadata": {
        "id": "WFnWh7zuH673",
        "colab_type": "text"
      },
      "source": [
        "# selu"
      ]
    },
    {
      "cell_type": "markdown",
      "metadata": {
        "id": "asX4Dnh7H674",
        "colab_type": "text"
      },
      "source": [
        "# elu"
      ]
    },
    {
      "cell_type": "markdown",
      "metadata": {
        "id": "h05SQC-MH674",
        "colab_type": "text"
      },
      "source": [
        "# exponential"
      ]
    },
    {
      "cell_type": "code",
      "metadata": {
        "id": "TACtBhMZH677",
        "colab_type": "code",
        "colab": {}
      },
      "source": [
        "model.add(keras.layers.Dense(5, activation=activations.selu))"
      ],
      "execution_count": null,
      "outputs": []
    },
    {
      "cell_type": "code",
      "metadata": {
        "id": "qTLeIB6rH67_",
        "colab_type": "code",
        "colab": {}
      },
      "source": [
        "model.add(keras.layers.Dense(3, activation=activations.elu))"
      ],
      "execution_count": null,
      "outputs": []
    },
    {
      "cell_type": "code",
      "metadata": {
        "id": "rvuji5NyH68D",
        "colab_type": "code",
        "colab": {}
      },
      "source": [
        "model.add(keras.layers.Dense(3, activation=activations.exponential))"
      ],
      "execution_count": null,
      "outputs": []
    },
    {
      "cell_type": "code",
      "metadata": {
        "id": "_d4GZPYyH68J",
        "colab_type": "code",
        "colab": {}
      },
      "source": [
        ""
      ],
      "execution_count": null,
      "outputs": []
    }
  ]
}